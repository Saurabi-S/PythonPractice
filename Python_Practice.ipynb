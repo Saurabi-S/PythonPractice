{
  "nbformat": 4,
  "nbformat_minor": 0,
  "metadata": {
    "colab": {
      "name": "Python Practice.ipynb",
      "provenance": [],
      "collapsed_sections": [],
      "authorship_tag": "ABX9TyMfMH4L0G+M9oGhmabp7wvs",
      "include_colab_link": true
    },
    "kernelspec": {
      "name": "python3",
      "display_name": "Python 3"
    }
  },
  "cells": [
    {
      "cell_type": "markdown",
      "metadata": {
        "id": "view-in-github",
        "colab_type": "text"
      },
      "source": [
        "<a href=\"https://colab.research.google.com/github/Saurabi-S/PythonPractice/blob/master/Python_Practice.ipynb\" target=\"_parent\"><img src=\"https://colab.research.google.com/assets/colab-badge.svg\" alt=\"Open In Colab\"/></a>"
      ]
    },
    {
      "cell_type": "markdown",
      "metadata": {
        "id": "ItGVZK5WNLKS",
        "colab_type": "text"
      },
      "source": [
        "Hello, World!"
      ]
    },
    {
      "cell_type": "code",
      "metadata": {
        "id": "R-g1iS6q7oIU",
        "colab_type": "code",
        "outputId": "81634b25-5210-411a-974f-4d579dc69756",
        "colab": {
          "base_uri": "https://localhost:8080/",
          "height": 34
        }
      },
      "source": [
        "print('Hey, this is Saurabi!')"
      ],
      "execution_count": 0,
      "outputs": [
        {
          "output_type": "stream",
          "text": [
            "Hey, this is Saurabi!\n"
          ],
          "name": "stdout"
        }
      ]
    },
    {
      "cell_type": "markdown",
      "metadata": {
        "id": "JvhccEQDNVsI",
        "colab_type": "text"
      },
      "source": [
        "Indentation"
      ]
    },
    {
      "cell_type": "code",
      "metadata": {
        "id": "LHJgPPrbNbxx",
        "colab_type": "code",
        "outputId": "7520e75e-33f9-45c9-d1c9-07c5d0f98557",
        "colab": {
          "base_uri": "https://localhost:8080/",
          "height": 34
        }
      },
      "source": [
        "x = 1\n",
        "if x == 1:\n",
        "  #it is indented\n",
        "  print(\"x is 1\")\n",
        "else:\n",
        "  print(\"x is not one\")"
      ],
      "execution_count": 0,
      "outputs": [
        {
          "output_type": "stream",
          "text": [
            "x is not one\n"
          ],
          "name": "stdout"
        }
      ]
    },
    {
      "cell_type": "markdown",
      "metadata": {
        "id": "JTTmOOqFNscf",
        "colab_type": "text"
      },
      "source": [
        "Variables and types"
      ]
    },
    {
      "cell_type": "code",
      "metadata": {
        "id": "I9SUXYntNzYu",
        "colab_type": "code",
        "outputId": "b516d749-99a9-4776-dd9a-21492e9a9fe9",
        "colab": {
          "base_uri": "https://localhost:8080/",
          "height": 34
        }
      },
      "source": [
        "age = 14\n",
        "print(age)"
      ],
      "execution_count": 0,
      "outputs": [
        {
          "output_type": "stream",
          "text": [
            "14\n"
          ],
          "name": "stdout"
        }
      ]
    },
    {
      "cell_type": "markdown",
      "metadata": {
        "id": "D1eEFZ7bONaH",
        "colab_type": "text"
      },
      "source": [
        "--Floats--"
      ]
    },
    {
      "cell_type": "code",
      "metadata": {
        "id": "FZuzOEYWORRt",
        "colab_type": "code",
        "outputId": "a75f781e-4fd6-45e3-a23d-0e3540616585",
        "colab": {
          "base_uri": "https://localhost:8080/",
          "height": 52
        }
      },
      "source": [
        "thisFloat = 14.0\n",
        "print(thisFloat) \n",
        "#or it can also be written in another way\n",
        "thissFloat = float(14)\n",
        "print(thissFloat)"
      ],
      "execution_count": 0,
      "outputs": [
        {
          "output_type": "stream",
          "text": [
            "14.0\n",
            "14.0\n"
          ],
          "name": "stdout"
        }
      ]
    },
    {
      "cell_type": "markdown",
      "metadata": {
        "id": "jdNwIQ8OOrji",
        "colab_type": "text"
      },
      "source": [
        "--Strings--"
      ]
    },
    {
      "cell_type": "code",
      "metadata": {
        "id": "hOh6oby7O_Xn",
        "colab_type": "code",
        "outputId": "5dd6a151-b11b-43cc-f2c4-ed8f2f9ab1fa",
        "colab": {
          "base_uri": "https://localhost:8080/",
          "height": 34
        }
      },
      "source": [
        "name = 'Saurabi'\n",
        "print(name)\n",
        "# can also be written with double quotes.\n",
        "# best thing about double quotes is that it als allows to use appostraphes"
      ],
      "execution_count": 0,
      "outputs": [
        {
          "output_type": "stream",
          "text": [
            "Saurabi\n"
          ],
          "name": "stdout"
        }
      ]
    },
    {
      "cell_type": "markdown",
      "metadata": {
        "id": "5A1mfbXuPhiA",
        "colab_type": "text"
      },
      "source": [
        "--Simple Operators--"
      ]
    },
    {
      "cell_type": "code",
      "metadata": {
        "id": "raxLj8ftPkCa",
        "colab_type": "code",
        "outputId": "81544180-5120-404f-8304-b12ef65120c4",
        "colab": {
          "base_uri": "https://localhost:8080/",
          "height": 52
        }
      },
      "source": [
        "first = 1\n",
        "fourteenth = 14\n",
        "together = first + fourteenth\n",
        "print(together)\n",
        "\n",
        "#now with strings\n",
        "\n",
        "I = \"I\"\n",
        "Best = \"am the best\"\n",
        "Iam = I +\" \"+ Best\n",
        "#variables like 'Iam' cannot have space in the middle\n",
        "print(Iam)"
      ],
      "execution_count": 0,
      "outputs": [
        {
          "output_type": "stream",
          "text": [
            "15\n",
            "I am the best\n"
          ],
          "name": "stdout"
        }
      ]
    },
    {
      "cell_type": "markdown",
      "metadata": {
        "id": "T8s8TocDQv-e",
        "colab_type": "text"
      },
      "source": [
        "--Variabe can be done simultaneosly--"
      ]
    },
    {
      "cell_type": "code",
      "metadata": {
        "id": "fS6rgWsYRHoc",
        "colab_type": "code",
        "outputId": "a381c556-1bf6-45b2-a73b-6b974a08dec4",
        "colab": {
          "base_uri": "https://localhost:8080/",
          "height": 70
        }
      },
      "source": [
        "Best, secondBest = \"leo\" ,\"tom\"\n",
        "#variables have to be indentified separately, so they cannot be in the same quotation mark.\n",
        "print(Best, secondBest)\n",
        "#works with number too\n",
        "a, b = 1,22\n",
        "print(a)\n",
        "print(a, Best)"
      ],
      "execution_count": 0,
      "outputs": [
        {
          "output_type": "stream",
          "text": [
            "leo tom\n",
            "1\n",
            "1 leo\n"
          ],
          "name": "stdout"
        }
      ]
    },
    {
      "cell_type": "markdown",
      "metadata": {
        "id": "PwiGZ73cUGLg",
        "colab_type": "text"
      },
      "source": [
        ""
      ]
    }
  ]
}