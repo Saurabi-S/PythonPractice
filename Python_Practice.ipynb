{
  "nbformat": 4,
  "nbformat_minor": 0,
  "metadata": {
    "colab": {
      "name": "Python Practice.ipynb",
      "provenance": [],
      "collapsed_sections": [],
      "authorship_tag": "ABX9TyNgWU1poPUQQUgIZ8slnd3m",
      "include_colab_link": true
    },
    "kernelspec": {
      "name": "python3",
      "display_name": "Python 3"
    }
  },
  "cells": [
    {
      "cell_type": "markdown",
      "metadata": {
        "id": "view-in-github",
        "colab_type": "text"
      },
      "source": [
        "<a href=\"https://colab.research.google.com/github/Saurabi-S/PythonPractice/blob/master/Python_Practice.ipynb\" target=\"_parent\"><img src=\"https://colab.research.google.com/assets/colab-badge.svg\" alt=\"Open In Colab\"/></a>"
      ]
    },
    {
      "cell_type": "markdown",
      "metadata": {
        "id": "ItGVZK5WNLKS",
        "colab_type": "text"
      },
      "source": [
        "Hello, World!"
      ]
    },
    {
      "cell_type": "code",
      "metadata": {
        "id": "R-g1iS6q7oIU",
        "colab_type": "code",
        "outputId": "81634b25-5210-411a-974f-4d579dc69756",
        "colab": {
          "base_uri": "https://localhost:8080/",
          "height": 34
        }
      },
      "source": [
        "print('Hey, this is Saurabi!')"
      ],
      "execution_count": 0,
      "outputs": [
        {
          "output_type": "stream",
          "text": [
            "Hey, this is Saurabi!\n"
          ],
          "name": "stdout"
        }
      ]
    },
    {
      "cell_type": "markdown",
      "metadata": {
        "id": "JvhccEQDNVsI",
        "colab_type": "text"
      },
      "source": [
        "Indentation"
      ]
    },
    {
      "cell_type": "code",
      "metadata": {
        "id": "LHJgPPrbNbxx",
        "colab_type": "code",
        "outputId": "7520e75e-33f9-45c9-d1c9-07c5d0f98557",
        "colab": {
          "base_uri": "https://localhost:8080/",
          "height": 34
        }
      },
      "source": [
        "x = 1\n",
        "if x == 1:\n",
        "  #it is indented\n",
        "  print(\"x is 1\")\n",
        "else:\n",
        "  print(\"x is not one\")"
      ],
      "execution_count": 0,
      "outputs": [
        {
          "output_type": "stream",
          "text": [
            "x is not one\n"
          ],
          "name": "stdout"
        }
      ]
    },
    {
      "cell_type": "markdown",
      "metadata": {
        "id": "JTTmOOqFNscf",
        "colab_type": "text"
      },
      "source": [
        "Variables and types"
      ]
    },
    {
      "cell_type": "code",
      "metadata": {
        "id": "I9SUXYntNzYu",
        "colab_type": "code",
        "outputId": "b516d749-99a9-4776-dd9a-21492e9a9fe9",
        "colab": {
          "base_uri": "https://localhost:8080/",
          "height": 34
        }
      },
      "source": [
        "age = 14\n",
        "print(age)"
      ],
      "execution_count": 0,
      "outputs": [
        {
          "output_type": "stream",
          "text": [
            "14\n"
          ],
          "name": "stdout"
        }
      ]
    },
    {
      "cell_type": "markdown",
      "metadata": {
        "id": "D1eEFZ7bONaH",
        "colab_type": "text"
      },
      "source": [
        "--Floats--"
      ]
    },
    {
      "cell_type": "code",
      "metadata": {
        "id": "FZuzOEYWORRt",
        "colab_type": "code",
        "outputId": "a75f781e-4fd6-45e3-a23d-0e3540616585",
        "colab": {
          "base_uri": "https://localhost:8080/",
          "height": 52
        }
      },
      "source": [
        "thisFloat = 14.0\n",
        "print(thisFloat) \n",
        "#or it can also be written in another way\n",
        "thissFloat = float(14)\n",
        "print(thissFloat)"
      ],
      "execution_count": 0,
      "outputs": [
        {
          "output_type": "stream",
          "text": [
            "14.0\n",
            "14.0\n"
          ],
          "name": "stdout"
        }
      ]
    },
    {
      "cell_type": "markdown",
      "metadata": {
        "id": "jdNwIQ8OOrji",
        "colab_type": "text"
      },
      "source": [
        "--Strings--"
      ]
    },
    {
      "cell_type": "code",
      "metadata": {
        "id": "hOh6oby7O_Xn",
        "colab_type": "code",
        "outputId": "5dd6a151-b11b-43cc-f2c4-ed8f2f9ab1fa",
        "colab": {
          "base_uri": "https://localhost:8080/",
          "height": 34
        }
      },
      "source": [
        "name = 'Saurabi'\n",
        "print(name)\n",
        "# can also be written with double quotes.\n",
        "# best thing about double quotes is that it als allows to use appostraphes"
      ],
      "execution_count": 0,
      "outputs": [
        {
          "output_type": "stream",
          "text": [
            "Saurabi\n"
          ],
          "name": "stdout"
        }
      ]
    },
    {
      "cell_type": "markdown",
      "metadata": {
        "id": "5A1mfbXuPhiA",
        "colab_type": "text"
      },
      "source": [
        "--Simple Operators--"
      ]
    },
    {
      "cell_type": "code",
      "metadata": {
        "id": "raxLj8ftPkCa",
        "colab_type": "code",
        "outputId": "b0e95d72-9396-429f-c73b-78e55a812a2a",
        "colab": {
          "base_uri": "https://localhost:8080/",
          "height": 52
        }
      },
      "source": [
        "first = 1\n",
        "fourteenth = 14\n",
        "together = first + fourteenth\n",
        "print(together)\n",
        "\n",
        "#now with strings\n",
        "\n",
        "I = \"I\"\n",
        "Best = \"am the best\"\n",
        "Iam = I +\" \"+ Best\n",
        "#variables like 'Iam' cannot have space in the middle\n",
        "print(Iam)"
      ],
      "execution_count": 0,
      "outputs": [
        {
          "output_type": "stream",
          "text": [
            "15\n",
            "I  am the best\n"
          ],
          "name": "stdout"
        }
      ]
    },
    {
      "cell_type": "markdown",
      "metadata": {
        "id": "T8s8TocDQv-e",
        "colab_type": "text"
      },
      "source": [
        "--Variabe can be done simultaneosly--"
      ]
    },
    {
      "cell_type": "code",
      "metadata": {
        "id": "fS6rgWsYRHoc",
        "colab_type": "code",
        "outputId": "a381c556-1bf6-45b2-a73b-6b974a08dec4",
        "colab": {
          "base_uri": "https://localhost:8080/",
          "height": 70
        }
      },
      "source": [
        "Best, secondBest = \"leo\" ,\"tom\"\n",
        "#variables have to be indentified separately, so they cannot be in the same quotation mark.\n",
        "print(Best, secondBest)\n",
        "#works with number too\n",
        "a, b = 1,22\n",
        "print(a)\n",
        "print(a, Best)"
      ],
      "execution_count": 0,
      "outputs": [
        {
          "output_type": "stream",
          "text": [
            "leo tom\n",
            "1\n",
            "1 leo\n"
          ],
          "name": "stdout"
        }
      ]
    },
    {
      "cell_type": "markdown",
      "metadata": {
        "id": "PwiGZ73cUGLg",
        "colab_type": "text"
      },
      "source": [
        "**The Combinantion of strings and numbers are not supported**"
      ]
    },
    {
      "cell_type": "code",
      "metadata": {
        "id": "UqdjY4uW85Ur",
        "colab_type": "code",
        "outputId": "9a7fce81-0c5a-4dd4-bbf5-d627c48d8cb4",
        "colab": {
          "base_uri": "https://localhost:8080/",
          "height": 221
        }
      },
      "source": [
        "name = \"Amar\"\n",
        "age = 5\n",
        "phrase = \"is\"\n",
        "PPhrase = name +\" \"+ phrase +\" \" + age\n",
        "print(PPhrase)"
      ],
      "execution_count": 0,
      "outputs": [
        {
          "output_type": "error",
          "ename": "TypeError",
          "evalue": "ignored",
          "traceback": [
            "\u001b[0;31m---------------------------------------------------------------------------\u001b[0m",
            "\u001b[0;31mTypeError\u001b[0m                                 Traceback (most recent call last)",
            "\u001b[0;32m<ipython-input-5-bb720e6b0978>\u001b[0m in \u001b[0;36m<module>\u001b[0;34m()\u001b[0m\n\u001b[1;32m      2\u001b[0m \u001b[0mage\u001b[0m \u001b[0;34m=\u001b[0m \u001b[0;36m5\u001b[0m\u001b[0;34m\u001b[0m\u001b[0;34m\u001b[0m\u001b[0m\n\u001b[1;32m      3\u001b[0m \u001b[0mphrase\u001b[0m \u001b[0;34m=\u001b[0m \u001b[0;34m\"is\"\u001b[0m\u001b[0;34m\u001b[0m\u001b[0;34m\u001b[0m\u001b[0m\n\u001b[0;32m----> 4\u001b[0;31m \u001b[0mPPhrase\u001b[0m \u001b[0;34m=\u001b[0m \u001b[0mname\u001b[0m \u001b[0;34m+\u001b[0m \u001b[0mphrase\u001b[0m \u001b[0;34m+\u001b[0m \u001b[0mage\u001b[0m\u001b[0;34m\u001b[0m\u001b[0;34m\u001b[0m\u001b[0m\n\u001b[0m\u001b[1;32m      5\u001b[0m \u001b[0mprint\u001b[0m\u001b[0;34m(\u001b[0m\u001b[0mPPhrase\u001b[0m\u001b[0;34m)\u001b[0m\u001b[0;34m\u001b[0m\u001b[0;34m\u001b[0m\u001b[0m\n",
            "\u001b[0;31mTypeError\u001b[0m: must be str, not int"
          ]
        }
      ]
    },
    {
      "cell_type": "markdown",
      "metadata": {
        "id": "ngz98XOf9elw",
        "colab_type": "text"
      },
      "source": [
        "*italicized text*----There was a error, since a string and number couldn't be combined, but it woud work if the number variable was converted into a string.----"
      ]
    },
    {
      "cell_type": "code",
      "metadata": {
        "id": "4Oyg0Lvl9wJV",
        "colab_type": "code",
        "outputId": "42697061-146f-4c77-ca66-3db5a3e5e6e3",
        "colab": {
          "base_uri": "https://localhost:8080/",
          "height": 34
        }
      },
      "source": [
        "name = \"Violet\"\n",
        "age = 16\n",
        "aage = str(age)\n",
        "phrase = \"is\"\n",
        "completephrase = name + \" \"+ phrase +\" \" + aage\n",
        "print(completephrase)"
      ],
      "execution_count": 0,
      "outputs": [
        {
          "output_type": "stream",
          "text": [
            "Violet is 16\n"
          ],
          "name": "stdout"
        }
      ]
    },
    {
      "cell_type": "markdown",
      "metadata": {
        "id": "PlktDolC_fmk",
        "colab_type": "text"
      },
      "source": [
        "List"
      ]
    },
    {
      "cell_type": "code",
      "metadata": {
        "id": "WUvxUP6H_h9M",
        "colab_type": "code",
        "outputId": "a5dc0969-6bdd-45b2-ea97-c308f9d52760",
        "colab": {
          "base_uri": "https://localhost:8080/",
          "height": 123
        }
      },
      "source": [
        "mylist = []\n",
        "mylist.append(1) #the variable inside could be anything\n",
        "mylist.append(2)\n",
        "mylist.append(3)\n",
        "#or\n",
        "print(mylist[0]) # prints 1\n",
        "print(mylist[1]) # prinst 2\n",
        "print(mylist[2]) # prints 3\n",
        "\n",
        "for l in mylist:  # prints out 1,2,3\n",
        "  print(l)\n"
      ],
      "execution_count": 0,
      "outputs": [
        {
          "output_type": "stream",
          "text": [
            "1\n",
            "2\n",
            "3\n",
            "1\n",
            "2\n",
            "3\n"
          ],
          "name": "stdout"
        }
      ]
    },
    {
      "cell_type": "markdown",
      "metadata": {
        "id": "PW7jRhb2BGA6",
        "colab_type": "text"
      },
      "source": [
        "--This commad is used to print a specific thing form the list---"
      ]
    },
    {
      "cell_type": "code",
      "metadata": {
        "id": "rycRysj_CmGQ",
        "colab_type": "code",
        "outputId": "e6669711-bfa8-4cda-ead0-9fd8bb0debdc",
        "colab": {
          "base_uri": "https://localhost:8080/",
          "height": 36
        }
      },
      "source": [
        "mylist = [1,2,3]\n",
        "print(mylist[2])\n",
        "#----The range matters to----\n",
        "#for example: mylist = [1,2,3]\n",
        "             #print (mylist[10])\n",
        "# this would not work because because it is out of range, there isn't ten, but then we said mylist[10]"
      ],
      "execution_count": 1,
      "outputs": [
        {
          "output_type": "stream",
          "text": [
            "3\n"
          ],
          "name": "stdout"
        }
      ]
    },
    {
      "cell_type": "markdown",
      "metadata": {
        "id": "miHqdJQmKgaS",
        "colab_type": "text"
      },
      "source": [
        "Basic Operators"
      ]
    },
    {
      "cell_type": "code",
      "metadata": {
        "id": "JToYs6dVKk22",
        "colab_type": "code",
        "colab": {
          "base_uri": "https://localhost:8080/",
          "height": 93
        },
        "outputId": "31a7b4c6-cf80-4662-8d63-993c5bd8675d"
      },
      "source": [
        "#Arithmetic Operators include addtion (+), subtration (-), multiplication (*), division (/), power or exponenet (**).\n",
        "#Python aso follows PEMDAS\n",
        "print(3+4*5-6/2)\n",
        "print(4**2)\n",
        "print(2**5)\n",
        "\n",
        "#In fact (%) can be used to find the remainder of the division \n",
        "remainder = 85%4\n",
        "print(remainder)"
      ],
      "execution_count": 7,
      "outputs": [
        {
          "output_type": "stream",
          "text": [
            "20.0\n",
            "16\n",
            "32\n",
            "1\n"
          ],
          "name": "stdout"
        }
      ]
    },
    {
      "cell_type": "markdown",
      "metadata": {
        "id": "G9cvR2_Lkkmr",
        "colab_type": "text"
      },
      "source": [
        "--Operations with strings--"
      ]
    },
    {
      "cell_type": "code",
      "metadata": {
        "id": "eLmdmg-Sks9u",
        "colab_type": "code",
        "colab": {
          "base_uri": "https://localhost:8080/",
          "height": 75
        },
        "outputId": "2ca52968-1caa-498d-a3bf-906b5b66064c"
      },
      "source": [
        "print(\"River\"+\"dale\")\n",
        "\n",
        "#Python also allows ultiplying numbers w/strings to allow a repeating sequence\n",
        "bunchofbazinga = \"BAZINGA \" * 100\n",
        "print(bunchofbazinga)"
      ],
      "execution_count": 22,
      "outputs": [
        {
          "output_type": "stream",
          "text": [
            "Riverdale\n",
            "BAZINGA BAZINGA BAZINGA BAZINGA BAZINGA BAZINGA BAZINGA BAZINGA BAZINGA BAZINGA BAZINGA BAZINGA BAZINGA BAZINGA BAZINGA BAZINGA BAZINGA BAZINGA BAZINGA BAZINGA BAZINGA BAZINGA BAZINGA BAZINGA BAZINGA BAZINGA BAZINGA BAZINGA BAZINGA BAZINGA BAZINGA BAZINGA BAZINGA BAZINGA BAZINGA BAZINGA BAZINGA BAZINGA BAZINGA BAZINGA BAZINGA BAZINGA BAZINGA BAZINGA BAZINGA BAZINGA BAZINGA BAZINGA BAZINGA BAZINGA BAZINGA BAZINGA BAZINGA BAZINGA BAZINGA BAZINGA BAZINGA BAZINGA BAZINGA BAZINGA BAZINGA BAZINGA BAZINGA BAZINGA BAZINGA BAZINGA BAZINGA BAZINGA BAZINGA BAZINGA BAZINGA BAZINGA BAZINGA BAZINGA BAZINGA BAZINGA BAZINGA BAZINGA BAZINGA BAZINGA BAZINGA BAZINGA BAZINGA BAZINGA BAZINGA BAZINGA BAZINGA BAZINGA BAZINGA BAZINGA BAZINGA BAZINGA BAZINGA BAZINGA BAZINGA BAZINGA BAZINGA BAZINGA BAZINGA BAZINGA \n"
          ],
          "name": "stdout"
        }
      ]
    },
    {
      "cell_type": "markdown",
      "metadata": {
        "id": "QDINeXJPmgKa",
        "colab_type": "text"
      },
      "source": [
        "--Operations with List--\n",
        " "
      ]
    },
    {
      "cell_type": "code",
      "metadata": {
        "id": "gwtXuME4nPJq",
        "colab_type": "code",
        "colab": {
          "base_uri": "https://localhost:8080/",
          "height": 55
        },
        "outputId": "56c63c0f-d09e-4a34-dddc-284b84a8057e"
      },
      "source": [
        "Female_TBBT = [\"Amy\", \"Penny\", \"Bernadette\"]\n",
        "Male_TBBT = [\"Sheldon\", \"Leonard\", \"Raj\", \"Howard\"]\n",
        "All_TBBT = Female_TBBT + Male_TBBT\n",
        "print(All_TBBT)\n",
        "\n",
        "#Python also allows forming lists to repeat using the multiplication.\n",
        "numbers = ([1,2,3,4] *3)\n",
        "print(numbers)"
      ],
      "execution_count": 30,
      "outputs": [
        {
          "output_type": "stream",
          "text": [
            "['Amy', 'Penny', 'Bernadette', 'Sheldon', 'Leonard', 'Raj', 'Howard']\n",
            "[1, 2, 3, 4, 1, 2, 3, 4, 1, 2, 3, 4]\n"
          ],
          "name": "stdout"
        }
      ]
    },
    {
      "cell_type": "markdown",
      "metadata": {
        "id": "uxZir7WkuCFU",
        "colab_type": "text"
      },
      "source": [
        "String Formatting"
      ]
    },
    {
      "cell_type": "markdown",
      "metadata": {
        "id": "-oXQKt5X7YUg",
        "colab_type": "text"
      },
      "source": [
        "Python uses C-style string formatting to create new, formatted strings. The '%' operator is used to format a set of variables enclosed in a 'tuple' (a fixed a size list),  together  with a format string, which contains normal text together with \"argument specifiers\", special symbols like \"%s\", and \"%d\""
      ]
    },
    {
      "cell_type": "code",
      "metadata": {
        "id": "QbFIEVZ78ipo",
        "colab_type": "code",
        "colab": {
          "base_uri": "https://localhost:8080/",
          "height": 55
        },
        "outputId": "8d296ba3-4530-41e2-b159-5dc08a4eb940"
      },
      "source": [
        "name = \"Missy\"\n",
        "print(\"Hello, %s!!!\" % name)\n",
        "age = 9\n",
        "print(\"%s is %d years old.\" % (name, age))"
      ],
      "execution_count": 33,
      "outputs": [
        {
          "output_type": "stream",
          "text": [
            "Hello, Missy!!!\n",
            "Missy is 9 years old.\n"
          ],
          "name": "stdout"
        }
      ]
    },
    {
      "cell_type": "code",
      "metadata": {
        "id": "uCZ4dFI9uEDH",
        "colab_type": "code",
        "colab": {}
      },
      "source": [
        ""
      ],
      "execution_count": 0,
      "outputs": []
    }
  ]
}