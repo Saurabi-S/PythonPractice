{
  "nbformat": 4,
  "nbformat_minor": 0,
  "metadata": {
    "colab": {
      "name": "Python Practice.ipynb",
      "provenance": [],
      "collapsed_sections": [],
      "authorship_tag": "ABX9TyP0RMnGKe/Rw6DJXo1uQ01l",
      "include_colab_link": true
    },
    "kernelspec": {
      "name": "python3",
      "display_name": "Python 3"
    }
  },
  "cells": [
    {
      "cell_type": "markdown",
      "metadata": {
        "id": "view-in-github",
        "colab_type": "text"
      },
      "source": [
        "<a href=\"https://colab.research.google.com/github/Saurabi-S/PythonPractice/blob/master/Python_Practice.ipynb\" target=\"_parent\"><img src=\"https://colab.research.google.com/assets/colab-badge.svg\" alt=\"Open In Colab\"/></a>"
      ]
    },
    {
      "cell_type": "markdown",
      "metadata": {
        "id": "ItGVZK5WNLKS",
        "colab_type": "text"
      },
      "source": [
        "Hello, World!"
      ]
    },
    {
      "cell_type": "code",
      "metadata": {
        "id": "R-g1iS6q7oIU",
        "colab_type": "code",
        "colab": {
          "base_uri": "https://localhost:8080/",
          "height": 34
        },
        "outputId": "81634b25-5210-411a-974f-4d579dc69756"
      },
      "source": [
        "print('Hey, this is Saurabi!')"
      ],
      "execution_count": null,
      "outputs": [
        {
          "output_type": "stream",
          "text": [
            "Hey, this is Saurabi!\n"
          ],
          "name": "stdout"
        }
      ]
    },
    {
      "cell_type": "markdown",
      "metadata": {
        "id": "JvhccEQDNVsI",
        "colab_type": "text"
      },
      "source": [
        "Indentation"
      ]
    },
    {
      "cell_type": "code",
      "metadata": {
        "id": "LHJgPPrbNbxx",
        "colab_type": "code",
        "colab": {
          "base_uri": "https://localhost:8080/",
          "height": 34
        },
        "outputId": "7520e75e-33f9-45c9-d1c9-07c5d0f98557"
      },
      "source": [
        "x = 1\n",
        "if x == 1:\n",
        "  #it is indented\n",
        "  print(\"x is 1\")\n",
        "else:\n",
        "  print(\"x is not one\")"
      ],
      "execution_count": null,
      "outputs": [
        {
          "output_type": "stream",
          "text": [
            "x is not one\n"
          ],
          "name": "stdout"
        }
      ]
    },
    {
      "cell_type": "markdown",
      "metadata": {
        "id": "JTTmOOqFNscf",
        "colab_type": "text"
      },
      "source": [
        "Variables and types"
      ]
    },
    {
      "cell_type": "code",
      "metadata": {
        "id": "I9SUXYntNzYu",
        "colab_type": "code",
        "colab": {
          "base_uri": "https://localhost:8080/",
          "height": 34
        },
        "outputId": "b516d749-99a9-4776-dd9a-21492e9a9fe9"
      },
      "source": [
        "age = 14\n",
        "print(age)"
      ],
      "execution_count": null,
      "outputs": [
        {
          "output_type": "stream",
          "text": [
            "14\n"
          ],
          "name": "stdout"
        }
      ]
    },
    {
      "cell_type": "markdown",
      "metadata": {
        "id": "D1eEFZ7bONaH",
        "colab_type": "text"
      },
      "source": [
        "--Floats--"
      ]
    },
    {
      "cell_type": "code",
      "metadata": {
        "id": "FZuzOEYWORRt",
        "colab_type": "code",
        "colab": {
          "base_uri": "https://localhost:8080/",
          "height": 52
        },
        "outputId": "a75f781e-4fd6-45e3-a23d-0e3540616585"
      },
      "source": [
        "thisFloat = 14.0\n",
        "print(thisFloat) \n",
        "#or it can also be written in another way\n",
        "thissFloat = float(14)\n",
        "print(thissFloat)"
      ],
      "execution_count": null,
      "outputs": [
        {
          "output_type": "stream",
          "text": [
            "14.0\n",
            "14.0\n"
          ],
          "name": "stdout"
        }
      ]
    },
    {
      "cell_type": "markdown",
      "metadata": {
        "id": "jdNwIQ8OOrji",
        "colab_type": "text"
      },
      "source": [
        "--Strings--"
      ]
    },
    {
      "cell_type": "code",
      "metadata": {
        "id": "hOh6oby7O_Xn",
        "colab_type": "code",
        "colab": {
          "base_uri": "https://localhost:8080/",
          "height": 54
        },
        "outputId": "2d6d69b1-c569-41db-f87e-a8b0ec4b3f31"
      },
      "source": [
        "name = 'Saurabi'\n",
        "print(name)\n",
        "# can also be written with double quotes.\n",
        "# best thing about double quotes is that it also allows to use appostraphes\n",
        "#Bust there's is another way; You have to use a backlash.\n",
        "print('I\\'am fine')"
      ],
      "execution_count": null,
      "outputs": [
        {
          "output_type": "stream",
          "text": [
            "Saurabi\n",
            "I'am fine\n"
          ],
          "name": "stdout"
        }
      ]
    },
    {
      "cell_type": "markdown",
      "metadata": {
        "id": "5A1mfbXuPhiA",
        "colab_type": "text"
      },
      "source": [
        "--Simple Operators--"
      ]
    },
    {
      "cell_type": "code",
      "metadata": {
        "id": "raxLj8ftPkCa",
        "colab_type": "code",
        "colab": {
          "base_uri": "https://localhost:8080/",
          "height": 52
        },
        "outputId": "b0e95d72-9396-429f-c73b-78e55a812a2a"
      },
      "source": [
        "first = 1\n",
        "fourteenth = 14\n",
        "together = first + fourteenth\n",
        "print(together)\n",
        "\n",
        "#now with strings\n",
        "\n",
        "I = \"I\"\n",
        "Best = \"am the best\"\n",
        "Iam = I +\" \"+ Best\n",
        "#variables like 'Iam' cannot have space in the middle\n",
        "print(Iam)"
      ],
      "execution_count": null,
      "outputs": [
        {
          "output_type": "stream",
          "text": [
            "15\n",
            "I  am the best\n"
          ],
          "name": "stdout"
        }
      ]
    },
    {
      "cell_type": "markdown",
      "metadata": {
        "id": "T8s8TocDQv-e",
        "colab_type": "text"
      },
      "source": [
        "--Variabe can be done simultaneosly--"
      ]
    },
    {
      "cell_type": "code",
      "metadata": {
        "id": "fS6rgWsYRHoc",
        "colab_type": "code",
        "colab": {
          "base_uri": "https://localhost:8080/",
          "height": 70
        },
        "outputId": "a381c556-1bf6-45b2-a73b-6b974a08dec4"
      },
      "source": [
        "Best, secondBest = \"leo\" ,\"tom\"\n",
        "#variables have to be indentified separately, so they cannot be in the same quotation mark.\n",
        "print(Best, secondBest)\n",
        "#works with number too\n",
        "a, b = 1,22\n",
        "print(a)\n",
        "print(a, Best)"
      ],
      "execution_count": null,
      "outputs": [
        {
          "output_type": "stream",
          "text": [
            "leo tom\n",
            "1\n",
            "1 leo\n"
          ],
          "name": "stdout"
        }
      ]
    },
    {
      "cell_type": "markdown",
      "metadata": {
        "id": "PwiGZ73cUGLg",
        "colab_type": "text"
      },
      "source": [
        "**The Combinantion of strings and numbers are not supported**"
      ]
    },
    {
      "cell_type": "code",
      "metadata": {
        "id": "UqdjY4uW85Ur",
        "colab_type": "code",
        "colab": {
          "base_uri": "https://localhost:8080/",
          "height": 221
        },
        "outputId": "9a7fce81-0c5a-4dd4-bbf5-d627c48d8cb4"
      },
      "source": [
        "name = \"Amar\"\n",
        "age = 5\n",
        "phrase = \"is\"\n",
        "PPhrase = name +\" \"+ phrase +\" \" + age\n",
        "print(PPhrase)"
      ],
      "execution_count": null,
      "outputs": [
        {
          "output_type": "error",
          "ename": "TypeError",
          "evalue": "ignored",
          "traceback": [
            "\u001b[0;31m---------------------------------------------------------------------------\u001b[0m",
            "\u001b[0;31mTypeError\u001b[0m                                 Traceback (most recent call last)",
            "\u001b[0;32m<ipython-input-5-bb720e6b0978>\u001b[0m in \u001b[0;36m<module>\u001b[0;34m()\u001b[0m\n\u001b[1;32m      2\u001b[0m \u001b[0mage\u001b[0m \u001b[0;34m=\u001b[0m \u001b[0;36m5\u001b[0m\u001b[0;34m\u001b[0m\u001b[0;34m\u001b[0m\u001b[0m\n\u001b[1;32m      3\u001b[0m \u001b[0mphrase\u001b[0m \u001b[0;34m=\u001b[0m \u001b[0;34m\"is\"\u001b[0m\u001b[0;34m\u001b[0m\u001b[0;34m\u001b[0m\u001b[0m\n\u001b[0;32m----> 4\u001b[0;31m \u001b[0mPPhrase\u001b[0m \u001b[0;34m=\u001b[0m \u001b[0mname\u001b[0m \u001b[0;34m+\u001b[0m \u001b[0mphrase\u001b[0m \u001b[0;34m+\u001b[0m \u001b[0mage\u001b[0m\u001b[0;34m\u001b[0m\u001b[0;34m\u001b[0m\u001b[0m\n\u001b[0m\u001b[1;32m      5\u001b[0m \u001b[0mprint\u001b[0m\u001b[0;34m(\u001b[0m\u001b[0mPPhrase\u001b[0m\u001b[0;34m)\u001b[0m\u001b[0;34m\u001b[0m\u001b[0;34m\u001b[0m\u001b[0m\n",
            "\u001b[0;31mTypeError\u001b[0m: must be str, not int"
          ]
        }
      ]
    },
    {
      "cell_type": "markdown",
      "metadata": {
        "id": "ngz98XOf9elw",
        "colab_type": "text"
      },
      "source": [
        "*italicized text*----There was a error, since a string and number couldn't be combined, but it woud work if the number variable was converted into a string.----"
      ]
    },
    {
      "cell_type": "code",
      "metadata": {
        "id": "4Oyg0Lvl9wJV",
        "colab_type": "code",
        "colab": {
          "base_uri": "https://localhost:8080/",
          "height": 34
        },
        "outputId": "42697061-146f-4c77-ca66-3db5a3e5e6e3"
      },
      "source": [
        "name = \"Violet\"\n",
        "age = 16\n",
        "aage = str(age)\n",
        "phrase = \"is\"\n",
        "completephrase = name + \" \"+ phrase +\" \" + aage\n",
        "print(completephrase)"
      ],
      "execution_count": null,
      "outputs": [
        {
          "output_type": "stream",
          "text": [
            "Violet is 16\n"
          ],
          "name": "stdout"
        }
      ]
    },
    {
      "cell_type": "markdown",
      "metadata": {
        "id": "PlktDolC_fmk",
        "colab_type": "text"
      },
      "source": [
        "List"
      ]
    },
    {
      "cell_type": "code",
      "metadata": {
        "id": "WUvxUP6H_h9M",
        "colab_type": "code",
        "colab": {
          "base_uri": "https://localhost:8080/",
          "height": 123
        },
        "outputId": "a5dc0969-6bdd-45b2-ea97-c308f9d52760"
      },
      "source": [
        "mylist = []\n",
        "mylist.append(1) #the variable inside could be anything\n",
        "mylist.append(2)\n",
        "mylist.append(3)\n",
        "#or\n",
        "print(mylist[0]) # prints 1\n",
        "print(mylist[1]) # prinst 2\n",
        "print(mylist[2]) # prints 3\n",
        "\n",
        "for l in mylist:  # prints out 1,2,3\n",
        "  print(l)\n"
      ],
      "execution_count": null,
      "outputs": [
        {
          "output_type": "stream",
          "text": [
            "1\n",
            "2\n",
            "3\n",
            "1\n",
            "2\n",
            "3\n"
          ],
          "name": "stdout"
        }
      ]
    },
    {
      "cell_type": "markdown",
      "metadata": {
        "id": "PW7jRhb2BGA6",
        "colab_type": "text"
      },
      "source": [
        "--This commad is used to print a specific thing form the list---"
      ]
    },
    {
      "cell_type": "code",
      "metadata": {
        "id": "rycRysj_CmGQ",
        "colab_type": "code",
        "colab": {
          "base_uri": "https://localhost:8080/",
          "height": 36
        },
        "outputId": "e6669711-bfa8-4cda-ead0-9fd8bb0debdc"
      },
      "source": [
        "mylist = [1,2,3]\n",
        "print(mylist[2])\n",
        "#----The range matters to----\n",
        "#for example: mylist = [1,2,3]\n",
        "             #print (mylist[10])\n",
        "# this would not work because because it is out of range, there isn't ten, but then we said mylist[10]"
      ],
      "execution_count": null,
      "outputs": [
        {
          "output_type": "stream",
          "text": [
            "3\n"
          ],
          "name": "stdout"
        }
      ]
    },
    {
      "cell_type": "markdown",
      "metadata": {
        "id": "miHqdJQmKgaS",
        "colab_type": "text"
      },
      "source": [
        "Basic Operators"
      ]
    },
    {
      "cell_type": "code",
      "metadata": {
        "id": "JToYs6dVKk22",
        "colab_type": "code",
        "colab": {
          "base_uri": "https://localhost:8080/",
          "height": 93
        },
        "outputId": "31a7b4c6-cf80-4662-8d63-993c5bd8675d"
      },
      "source": [
        "#Arithmetic Operators include addtion (+), subtration (-), multiplication (*), division (/), power or exponenet (**).\n",
        "#Python aso follows PEMDAS\n",
        "print(3+4*5-6/2)\n",
        "print(4**2)\n",
        "print(2**5)\n",
        "\n",
        "#In fact (%) can be used to find the remainder of the division \n",
        "remainder = 85%4\n",
        "print(remainder)"
      ],
      "execution_count": null,
      "outputs": [
        {
          "output_type": "stream",
          "text": [
            "20.0\n",
            "16\n",
            "32\n",
            "1\n"
          ],
          "name": "stdout"
        }
      ]
    },
    {
      "cell_type": "markdown",
      "metadata": {
        "id": "G9cvR2_Lkkmr",
        "colab_type": "text"
      },
      "source": [
        "--Operations with strings--"
      ]
    },
    {
      "cell_type": "code",
      "metadata": {
        "id": "eLmdmg-Sks9u",
        "colab_type": "code",
        "colab": {
          "base_uri": "https://localhost:8080/",
          "height": 75
        },
        "outputId": "2ca52968-1caa-498d-a3bf-906b5b66064c"
      },
      "source": [
        "print(\"River\"+\"dale\")\n",
        "\n",
        "#Python also allows ultiplying numbers w/strings to allow a repeating sequence\n",
        "bunchofbazinga = \"BAZINGA \" * 100\n",
        "print(bunchofbazinga)"
      ],
      "execution_count": null,
      "outputs": [
        {
          "output_type": "stream",
          "text": [
            "Riverdale\n",
            "BAZINGA BAZINGA BAZINGA BAZINGA BAZINGA BAZINGA BAZINGA BAZINGA BAZINGA BAZINGA BAZINGA BAZINGA BAZINGA BAZINGA BAZINGA BAZINGA BAZINGA BAZINGA BAZINGA BAZINGA BAZINGA BAZINGA BAZINGA BAZINGA BAZINGA BAZINGA BAZINGA BAZINGA BAZINGA BAZINGA BAZINGA BAZINGA BAZINGA BAZINGA BAZINGA BAZINGA BAZINGA BAZINGA BAZINGA BAZINGA BAZINGA BAZINGA BAZINGA BAZINGA BAZINGA BAZINGA BAZINGA BAZINGA BAZINGA BAZINGA BAZINGA BAZINGA BAZINGA BAZINGA BAZINGA BAZINGA BAZINGA BAZINGA BAZINGA BAZINGA BAZINGA BAZINGA BAZINGA BAZINGA BAZINGA BAZINGA BAZINGA BAZINGA BAZINGA BAZINGA BAZINGA BAZINGA BAZINGA BAZINGA BAZINGA BAZINGA BAZINGA BAZINGA BAZINGA BAZINGA BAZINGA BAZINGA BAZINGA BAZINGA BAZINGA BAZINGA BAZINGA BAZINGA BAZINGA BAZINGA BAZINGA BAZINGA BAZINGA BAZINGA BAZINGA BAZINGA BAZINGA BAZINGA BAZINGA BAZINGA \n"
          ],
          "name": "stdout"
        }
      ]
    },
    {
      "cell_type": "markdown",
      "metadata": {
        "id": "QDINeXJPmgKa",
        "colab_type": "text"
      },
      "source": [
        "--Operations with List--\n",
        " "
      ]
    },
    {
      "cell_type": "code",
      "metadata": {
        "id": "gwtXuME4nPJq",
        "colab_type": "code",
        "colab": {
          "base_uri": "https://localhost:8080/",
          "height": 55
        },
        "outputId": "56c63c0f-d09e-4a34-dddc-284b84a8057e"
      },
      "source": [
        "Female_TBBT = [\"Amy\", \"Penny\", \"Bernadette\"]\n",
        "Male_TBBT = [\"Sheldon\", \"Leonard\", \"Raj\", \"Howard\"]\n",
        "All_TBBT = Female_TBBT + Male_TBBT\n",
        "print(All_TBBT)\n",
        "\n",
        "#Python also allows forming lists to repeat using the multiplication.\n",
        "numbers = ([1,2,3,4] *3)\n",
        "print(numbers)"
      ],
      "execution_count": null,
      "outputs": [
        {
          "output_type": "stream",
          "text": [
            "['Amy', 'Penny', 'Bernadette', 'Sheldon', 'Leonard', 'Raj', 'Howard']\n",
            "[1, 2, 3, 4, 1, 2, 3, 4, 1, 2, 3, 4]\n"
          ],
          "name": "stdout"
        }
      ]
    },
    {
      "cell_type": "markdown",
      "metadata": {
        "id": "uxZir7WkuCFU",
        "colab_type": "text"
      },
      "source": [
        "String Formatting"
      ]
    },
    {
      "cell_type": "code",
      "metadata": {
        "id": "p1hWIH84ZCKN",
        "colab_type": "code",
        "colab": {}
      },
      "source": [
        ""
      ],
      "execution_count": null,
      "outputs": []
    },
    {
      "cell_type": "markdown",
      "metadata": {
        "id": "-oXQKt5X7YUg",
        "colab_type": "text"
      },
      "source": [
        "Python uses C-style string formatting to create new, formatted strings. The '%' operator is used to format a set of variables enclosed in a 'tuple' (a fixed a size list),  together  with a format string, which contains normal text together with \"argument specifiers\", special symbols like \"%s\", and \"%d\"\n",
        "\n",
        "Here are some basic argument specifier \n",
        "**%s** -*String*\n",
        "**%d**- *Integers*\n",
        "**%f**- *Floating point numbers*\n",
        "**%.(number of digits) f**- *Floating point numbers w/ a fized anount of digits right to the right of the dot.*\n",
        "**%x/%X** - *Integers in hex representation (lowercase/upperrcase)*\n"
      ]
    },
    {
      "cell_type": "code",
      "metadata": {
        "id": "QbFIEVZ78ipo",
        "colab_type": "code",
        "colab": {
          "base_uri": "https://localhost:8080/",
          "height": 93
        },
        "outputId": "43f44491-1694-4f74-b629-4b1a55fd2182"
      },
      "source": [
        "name = \"Missy\"\n",
        "print(\"Hello, %s!!!\" % name)\n",
        "age = 9\n",
        "print(\"%s is %d years old.\" % (name, age))\n",
        "myfloat = 55.0\n",
        "print(\"woah %.1f\" % myfloat)\n",
        "anotherfloat = 57.669700455\n",
        "print(\"%f\" % anotherfloat)"
      ],
      "execution_count": null,
      "outputs": [
        {
          "output_type": "stream",
          "text": [
            "Hello, Missy!!!\n",
            "Missy is 9 years old.\n",
            "woah 55.0\n",
            "57.669700\n"
          ],
          "name": "stdout"
        }
      ]
    },
    {
      "cell_type": "markdown",
      "metadata": {
        "id": "LIvg_WLyOmgc",
        "colab_type": "text"
      },
      "source": [
        "Any object that is nota string can be foratted using the %s operator as well. The string which returns from the \"repr\" method of the object is formatted as the string."
      ]
    },
    {
      "cell_type": "code",
      "metadata": {
        "id": "OmZPvOnmRefE",
        "colab_type": "code",
        "colab": {
          "base_uri": "https://localhost:8080/",
          "height": 55
        },
        "outputId": "20b0d545-7d71-42f2-f3f2-f71a999b0d25"
      },
      "source": [
        "mylist = [4,5,6]\n",
        "print(\"my list includes: %s\" % mylist)\n",
        "number = 3\n",
        "print(\"number %s\" % number)"
      ],
      "execution_count": null,
      "outputs": [
        {
          "output_type": "stream",
          "text": [
            "my list includes: [4, 5, 6]\n",
            "number 3\n"
          ],
          "name": "stdout"
        }
      ]
    },
    {
      "cell_type": "markdown",
      "metadata": {
        "id": "F0NuavoeZFRH",
        "colab_type": "text"
      },
      "source": [
        "Basic String Operation"
      ]
    },
    {
      "cell_type": "code",
      "metadata": {
        "id": "3w210buOZKUf",
        "colab_type": "code",
        "colab": {
          "base_uri": "https://localhost:8080/",
          "height": 55
        },
        "outputId": "aa279332-7f1e-4e5d-ec35-646174618826"
      },
      "source": [
        "#this command will give the number of characters present in the string it's being reffered to (includes punctuation and spaces).\n",
        "string = \"these are single quotes ''\"\n",
        "print(string)\n",
        "print(len(string))"
      ],
      "execution_count": null,
      "outputs": [
        {
          "output_type": "stream",
          "text": [
            "these are single quotes ''\n",
            "26\n"
          ],
          "name": "stdout"
        }
      ]
    },
    {
      "cell_type": "code",
      "metadata": {
        "id": "yBYZ_uGplatD",
        "colab_type": "code",
        "colab": {
          "base_uri": "https://localhost:8080/",
          "height": 35
        },
        "outputId": "5adc3d47-13ed-4e76-df45-980371ddb239"
      },
      "source": [
        "#This command will print out the first occurnavce of letter we have specified.\n",
        "string = \"Hello world!\"\n",
        "print(string.index(\"o\"))\n",
        "#You might wonder why it did not print out five, since first 'o' is clearly the fifth letter, but to make things simpler python considers the first letter as a zero."
      ],
      "execution_count": null,
      "outputs": [
        {
          "output_type": "stream",
          "text": [
            "4\n"
          ],
          "name": "stdout"
        }
      ]
    },
    {
      "cell_type": "code",
      "metadata": {
        "id": "FBeiVp8dR--H",
        "colab_type": "code",
        "colab": {
          "base_uri": "https://localhost:8080/",
          "height": 55
        },
        "outputId": "bab67475-9339-4b36-f87e-fde2c929bd93"
      },
      "source": [
        "#This command will print out the number of any certain letter present in the string\n",
        "string = \"Umm! Idk what to say. I'm out of ideas :(\"\n",
        "print(string)\n",
        "print(string.count(\"m\"))"
      ],
      "execution_count": null,
      "outputs": [
        {
          "output_type": "stream",
          "text": [
            "Umm! Idk what to say. I'm out of ideas :(\n",
            "1\n"
          ],
          "name": "stdout"
        }
      ]
    },
    {
      "cell_type": "code",
      "metadata": {
        "id": "z8J_WAhbWvRc",
        "colab_type": "code",
        "colab": {
          "base_uri": "https://localhost:8080/",
          "height": 102
        },
        "outputId": "4e435b02-2574-494e-b36f-6fc67b8ad9ab"
      },
      "source": [
        "string = \"Wingardium Leviosa\"\n",
        "print(string[3:7])\n",
        "#This command will print out the part of the string from the fourth character (remember it starts from 0) to the sixth character, not the seventh letter. Sixth not seventh because most programmin languages do this, apparently it makes calculating math inside the brackets earsier. I mean if you say so...\n",
        "\n",
        "#If you just leave a number in the brackets without the colon it will print out that character from the begining.\n",
        "print(string[4])\n",
        "\n",
        "#If you put a negtive number instead it will print that character from the end.\n",
        "print(string[-5])\n",
        "\n",
        "#If you leave out the second number but keep the colon it will give you the part of the string that includes the beginig all the way to where you wanted to stop it.\n",
        "print(string[:10]) #Again this 9 can be negative too.\n",
        "\n",
        "#If you leave out the first number but keep the colon and the second number it will give you the part of the string that includes all the letters from where you wanter it to stat all the way to the end\n",
        "print(string[11:]) #Again 10 can be negative\n",
        "\n",
        "#Also if you just plae a colon in the beackets it'll just give you the entire string\n",
        "#Make sure the numbers are inside the brakets not the parentheses.\n"
      ],
      "execution_count": null,
      "outputs": [
        {
          "output_type": "stream",
          "text": [
            "gard\n",
            "a\n",
            "v\n",
            "Wingardium\n",
            "Leviosa\n"
          ],
          "name": "stdout"
        }
      ]
    },
    {
      "cell_type": "code",
      "metadata": {
        "id": "7jMHjjshbC5V",
        "colab_type": "code",
        "colab": {
          "base_uri": "https://localhost:8080/",
          "height": 74
        },
        "outputId": "880fd1ab-0dcc-4289-a0cd-5ce9e65dd3be"
      },
      "source": [
        "string = \"ABCDEFGHI\"\n",
        "print(string[2:7:2])\n",
        "#This command prints the string from 2 to 7 skipping one character. Basically read as [start:stop:step], so in this case it reads/prints out every second letter.\n",
        "\n",
        "#Meanwhile...\n",
        "print(string[2:7])\n",
        "print(string[2:7:1])\n",
        "#They both produce the same result because in the second case it is stepping every letter, therefore read/prints out every letter."
      ],
      "execution_count": null,
      "outputs": [
        {
          "output_type": "stream",
          "text": [
            "CEG\n",
            "CDEFG\n",
            "CDEFG\n"
          ],
          "name": "stdout"
        }
      ]
    },
    {
      "cell_type": "code",
      "metadata": {
        "id": "71a-utBijpLv",
        "colab_type": "code",
        "colab": {
          "base_uri": "https://localhost:8080/",
          "height": 36
        },
        "outputId": "42f1aea4-de7c-47da-ffda-88fba2202a33"
      },
      "source": [
        "#Python doesn't have a string reverse (strrev) function like C (C as in the programming language) does. But this cmd can do that\n",
        "string = \"Papaoutais\"\n",
        "print(string[::-1]) "
      ],
      "execution_count": null,
      "outputs": [
        {
          "output_type": "stream",
          "text": [
            "siatuoapaP\n"
          ],
          "name": "stdout"
        }
      ]
    },
    {
      "cell_type": "code",
      "metadata": {
        "id": "Ui0t1ye0lI2m",
        "colab_type": "code",
        "colab": {
          "base_uri": "https://localhost:8080/",
          "height": 51
        },
        "outputId": "e5698bbf-1193-47e5-fdd6-e595e8609f0c"
      },
      "source": [
        "#This cmd makes all the letters uppercase/lowercase respectively\n",
        "word = \"Woah!\"\n",
        "print(word.upper())\n",
        "print(word.lower())"
      ],
      "execution_count": null,
      "outputs": [
        {
          "output_type": "stream",
          "text": [
            "WOAH!\n",
            "woah!\n"
          ],
          "name": "stdout"
        }
      ]
    },
    {
      "cell_type": "code",
      "metadata": {
        "id": "AuK2mbhlbPlO",
        "colab_type": "code",
        "colab": {
          "base_uri": "https://localhost:8080/",
          "height": 51
        },
        "outputId": "ceccfbce-343d-47f4-ca7b-c345163fa9be"
      },
      "source": [
        "#This ommand is used to determine if the string starts w/ or end w/ something, respectively. If true\n",
        "#it'll print out 'true', if not then 'false'. **Punctuation matters** \n",
        "\n",
        "string = \"Woah this is cool. Ha ha, only joking!\")\n",
        "print(string.startswith(\"Ha Ha\"))\n",
        "print(string.endswith(\"joking!\")) "
      ],
      "execution_count": null,
      "outputs": [
        {
          "output_type": "stream",
          "text": [
            "False\n",
            "True\n"
          ],
          "name": "stdout"
        }
      ]
    },
    {
      "cell_type": "code",
      "metadata": {
        "id": "XJfOn-3I1SwC",
        "colab_type": "code",
        "colab": {
          "base_uri": "https://localhost:8080/",
          "height": 34
        },
        "outputId": "b162dca1-84c0-4ee5-c1fa-89921eac784d"
      },
      "source": [
        "#This command splits the tring int oa buch of string grouped together n a list. **You chose where the split happens\"\n",
        "word = \"Oompa Loompa!\"\n",
        "print(word.split(\"o\"))\n",
        "#And apparently it removes the letter/character you chose as well."
      ],
      "execution_count": null,
      "outputs": [
        {
          "output_type": "stream",
          "text": [
            "['O', 'mpa L', '', 'mpa!']\n"
          ],
          "name": "stdout"
        }
      ]
    },
    {
      "cell_type": "markdown",
      "metadata": {
        "id": "AX8duYox5UOD",
        "colab_type": "text"
      },
      "source": [
        "# Conditions"
      ]
    },
    {
      "cell_type": "code",
      "metadata": {
        "id": "sb-IASQp5cdL",
        "colab_type": "code",
        "colab": {
          "base_uri": "https://localhost:8080/",
          "height": 85
        },
        "outputId": "0d6c0634-e9bd-45ec-b681-4c8add366320"
      },
      "source": [
        "#Python uses boolean variables to evaluate conditions\n",
        "Harry = \"Potter\"\n",
        "print(Harry == \"Potter\")\n",
        "print(Harry == \"Styles\")\n",
        "print(Harry != \"Prince\") # \"!=\" means 'not equals'\n",
        "\n",
        "Granger = 1\n",
        "print(Granger < 3)"
      ],
      "execution_count": null,
      "outputs": [
        {
          "output_type": "stream",
          "text": [
            "True\n",
            "False\n",
            "True\n",
            "True\n"
          ],
          "name": "stdout"
        }
      ]
    },
    {
      "cell_type": "code",
      "metadata": {
        "id": "P4oTpOFk7LHM",
        "colab_type": "code",
        "colab": {
          "base_uri": "https://localhost:8080/",
          "height": 34
        },
        "outputId": "c946377a-bdeb-4f4b-b68a-f562198cb4ae"
      },
      "source": [
        "#the \"and\" and \"or\" boolean operators alow building more complex boolean expressions.\n",
        "name = \"Number 5\"\n",
        "age = 15\n",
        "if name ==\"Number 5\" and age == 15:\n",
        "  print(\"Welcome Number 5!\")\n",
        "\n",
        "if name ==\"Number 5\" or name == \"Klaus\":\n",
        "  print(\"If you're Klaus, then it's not funny!\")"
      ],
      "execution_count": null,
      "outputs": [
        {
          "output_type": "stream",
          "text": [
            "If your Klaus, then it's not funny!\n"
          ],
          "name": "stdout"
        }
      ]
    },
    {
      "cell_type": "code",
      "metadata": {
        "id": "xy2Qc2Sm-Bld",
        "colab_type": "code",
        "colab": {
          "base_uri": "https://localhost:8080/",
          "height": 34
        },
        "outputId": "d26fe297-6801-4e61-b368-8ce327f8f3ee"
      },
      "source": [
        "#The \"in\" operator could be used to check is a specified object exists with an iterable (iterable = reapated process; going through each) object container, such as a list.\n",
        "spell = \"Soronous\"\n",
        "if spell in [\"Expecto Patronum\", \"Ridikkulius\", \"Protego\", \"Sonorous\", \"Reparo\"]:\n",
        "  print(\"You chose the spell Soronous! That's a nice one ;)\")\n",
        "else:\n",
        "  print(\"That is also a nice spell!\")"
      ],
      "execution_count": null,
      "outputs": [
        {
          "output_type": "stream",
          "text": [
            "That is also a nice spell!\n"
          ],
          "name": "stdout"
        }
      ]
    },
    {
      "cell_type": "code",
      "metadata": {
        "id": "dd-YtZJaCeQT",
        "colab_type": "code",
        "colab": {
          "base_uri": "https://localhost:8080/",
          "height": 34
        },
        "outputId": "4675967c-cf03-44b6-a1db-8ac9e67ee6f9"
      },
      "source": [
        "#Python uses indentation to define code bloacks, instead of brakets. The standard indentation is 4 spaces, although tabs and any other space would work, as long as it is consistent. \"Code bloacks don't need any termination\"\n",
        "statement = False\n",
        "Another_Statement = True\n",
        "if statement is True:\n",
        "  print(\"Wow!\")\n",
        "  pass\n",
        "elif Another_Statement is True:\n",
        "  print(\"Woah!\")\n",
        "  pass #The command is only syntactically required; but it doesn't affect the code is any way; it's a null command.\n",
        "else:\n",
        "  print(\"Are you sure?\")\n",
        "  pass"
      ],
      "execution_count": null,
      "outputs": [
        {
          "output_type": "stream",
          "text": [
            "Woah!\n"
          ],
          "name": "stdout"
        }
      ]
    },
    {
      "cell_type": "code",
      "metadata": {
        "id": "rdfLA5WZ_mWX",
        "colab_type": "code",
        "colab": {
          "base_uri": "https://localhost:8080/",
          "height": 51
        },
        "outputId": "ff40652b-f96c-4974-b255-b0c7e3bbb8f3"
      },
      "source": [
        "#Unlike that doubles equales operator \"==\" the \"is\" operator does not match the values of the variable, but the instances themsleves. For example:\n",
        "x = [4,5,6]\n",
        "y = [4,5,6]\n",
        "print(x == y)\n",
        "print(x is y)"
      ],
      "execution_count": null,
      "outputs": [
        {
          "output_type": "stream",
          "text": [
            "True\n",
            "False\n"
          ],
          "name": "stdout"
        }
      ]
    },
    {
      "cell_type": "code",
      "metadata": {
        "id": "80VZdyUsE0-d",
        "colab_type": "code",
        "colab": {
          "base_uri": "https://localhost:8080/",
          "height": 51
        },
        "outputId": "08801538-77da-4f5b-b61b-fee1f2df24d1"
      },
      "source": [
        "#Using \"not\" before a boolean expression inverts it:\n",
        "print(not False)\n",
        "print((not False)==(False))"
      ],
      "execution_count": null,
      "outputs": [
        {
          "output_type": "stream",
          "text": [
            "True\n",
            "False\n"
          ],
          "name": "stdout"
        }
      ]
    },
    {
      "cell_type": "markdown",
      "metadata": {
        "id": "udSBOUtnFkEo",
        "colab_type": "text"
      },
      "source": [
        "# Loops"
      ]
    }
  ]
}